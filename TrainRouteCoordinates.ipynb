{
 "cells": [
  {
   "cell_type": "code",
   "execution_count": null,
   "metadata": {},
   "outputs": [],
   "source": [
    "import googlemaps\n",
    "import polyline\n",
    "import csv"
   ]
  },
  {
   "cell_type": "code",
   "execution_count": null,
   "metadata": {},
   "outputs": [],
   "source": [
    "#input\n",
    "departure = \"-6.202325305654133, 106.82319845643676\"\n",
    "arrival = \"-6.155194755767249, 106.80134227799965\"\n",
    "key = '......' #your API key\n",
    "\n",
    "#output\n",
    "CSV_File = 'TrainRouteCoordinates.csv'"
   ]
  },
  {
   "cell_type": "code",
   "execution_count": null,
   "metadata": {},
   "outputs": [],
   "source": [
    "gmaps = googlemaps.Client(key=key)\n",
    "directions = gmaps.directions(departure, arrival, mode=\"transit\")\n",
    "\n",
    "if len(directions) > 0 and \"legs\" in directions[0]:\n",
    "    leg = directions[0][\"legs\"][0]\n",
    "\n",
    "    if \"steps\" in leg:\n",
    "        with open(CSV_file, mode='w', newline='') as csv_file:\n",
    "            csv_writer = csv.writer(csv_file)\n",
    "\n",
    "            for step in leg[\"steps\"]:\n",
    "                if \"polyline\" in step:\n",
    "                    polyline_data = step[\"polyline\"][\"points\"]\n",
    "                    decoded_coordinates = polyline.decode(polyline_data)\n",
    "                    for lat, lng in decoded_coordinates:\n",
    "                        csv_writer.writerow([__,lng, lat])"
   ]
  }
 ],
 "metadata": {
  "language_info": {
   "name": "python"
  }
 },
 "nbformat": 4,
 "nbformat_minor": 2
}
