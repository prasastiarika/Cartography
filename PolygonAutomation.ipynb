{
 "cells": [
  {
   "cell_type": "code",
   "execution_count": null,
   "metadata": {},
   "outputs": [],
   "source": [
    "from pykml import parser\n",
    "import folium\n",
    "from shapely.geometry import LineString, Point, Polygon, shape\n",
    "from pyproj import Transformer\n",
    "import webbrowser\n",
    "import geojson"
   ]
  },
  {
   "attachments": {},
   "cell_type": "markdown",
   "metadata": {},
   "source": [
    "INPUT & OUTPUT"
   ]
  },
  {
   "cell_type": "code",
   "execution_count": null,
   "metadata": {},
   "outputs": [],
   "source": [
    "#Input\n",
    "kml_file = 'Route.kml'\n",
    "buffer_distance = 10 #buffer distance (meters)\n",
    "tolerance = 0.00005 #tolerance\n",
    "\n",
    "#Output\n",
    "GeoJSON_file = 'Polygon.geojson'\n",
    "HTML_file = 'Polygon.html'"
   ]
  },
  {
   "attachments": {},
   "cell_type": "markdown",
   "metadata": {},
   "source": [
    "KML"
   ]
  },
  {
   "cell_type": "code",
   "execution_count": null,
   "metadata": {},
   "outputs": [],
   "source": [
    "with open(kml_file, mode='r', encoding='utf-8') as f:\n",
    "    root = parser.parse(f).getroot()\n",
    "\n",
    "coords = root.Document.Placemark.LineString.coordinates.text\n",
    "coordinates = coords.strip().split() \n",
    "\n",
    "polyline_points = [] \n",
    "for coordinate in coordinates:\n",
    "    lon, lat, __ = coordinate.split(',')\n",
    "    latitude = float(lat)\n",
    "    longitude = float(lon)\n",
    "    polyline_points.append((latitude, longitude))"
   ]
  },
  {
   "attachments": {},
   "cell_type": "markdown",
   "metadata": {},
   "source": [
    "BUFFER & POLYGON"
   ]
  },
  {
   "cell_type": "code",
   "execution_count": null,
   "metadata": {},
   "outputs": [],
   "source": [
    "in_proj = \"EPSG:4326\"\n",
    "out_proj = \"EPSG:3857\"\n",
    "transformer = Transformer.from_crs(in_proj, out_proj)\n",
    "projected_points = [transformer.transform(lat, lon) for lat, lon in polyline_points]\n",
    "\n",
    "line = LineString(projected_points)\n",
    "buffered_line = line.buffer(buffer_distance)\n",
    "buffer_polygon = buffered_line\n",
    "buffer_polygon_exterior = buffer_polygon.exterior\n",
    "buffer_polygon_coords = list(buffer_polygon_exterior.coords)\n",
    "buffer_polygon_latlon = [transformer.transform(x, y, direction='INVERSE') for x, y in buffer_polygon_coords]\n",
    "\n",
    "poly = Polygon(buffer_polygon_latlon)\n",
    "simplified_poly = poly.simplify(tolerance, preserve_topology=True)\n",
    "simplified_coords = list(simplified_poly.exterior.coords)"
   ]
  },
  {
   "attachments": {},
   "cell_type": "markdown",
   "metadata": {},
   "source": [
    "GeoJSON"
   ]
  },
  {
   "cell_type": "code",
   "execution_count": null,
   "metadata": {},
   "outputs": [],
   "source": [
    "geojson_coords = [(lon, lat) for lat, lon in simplified_coords]\n",
    "polygon = geojson.Feature(geometry=geojson.Polygon([geojson_coords]), properties={})\n",
    "\n",
    "with open(GeoJSON_file, 'w') as f:\n",
    "    geojson.dump(polygon, f)\n",
    "\n",
    "parsing = {\n",
    "    \"type\": polygon.geometry.type,\n",
    "    \"coordinates\": polygon.geometry.coordinates\n",
    "}\n",
    "polygon_area = geojson.dumps(parsing)\n",
    "print(polygon_area)"
   ]
  },
  {
   "attachments": {},
   "cell_type": "markdown",
   "metadata": {},
   "source": [
    "HTML"
   ]
  },
  {
   "cell_type": "code",
   "execution_count": null,
   "metadata": {},
   "outputs": [],
   "source": [
    "m = folium.Map(location=polyline_points[0], zoom_start=12)\n",
    "folium.Polygon(locations=buffer_polygon_latlon, color='red', fill=True, fill_color='red', fill_opacity=0.5).add_to(m)\n",
    "folium.PolyLine(locations=polyline_points, color='red').add_to(m)\n",
    "folium.GeoJson(polygon, name=\"geojson\").add_to(m)\n",
    "m.save(HTML_file)\n",
    "m"
   ]
  }
 ],
 "metadata": {
  "kernelspec": {
   "display_name": "base",
   "language": "python",
   "name": "python3"
  },
  "language_info": {
   "codemirror_mode": {
    "name": "ipython",
    "version": 3
   },
   "file_extension": ".py",
   "mimetype": "text/x-python",
   "name": "python",
   "nbconvert_exporter": "python",
   "pygments_lexer": "ipython3",
   "version": "3.8.16"
  },
  "orig_nbformat": 4
 },
 "nbformat": 4,
 "nbformat_minor": 2
}
