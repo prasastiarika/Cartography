{
 "cells": [
  {
   "cell_type": "code",
   "execution_count": null,
   "metadata": {},
   "outputs": [],
   "source": [
    "import geopandas as gpd\n",
    "import pandas as pd\n",
    "import geojson\n",
    "import folium"
   ]
  },
  {
   "cell_type": "code",
   "execution_count": null,
   "metadata": {},
   "outputs": [],
   "source": [
    "#Input\n",
    "to_merge = ['Polygon1.geojson', 'Polygon2.geojson', 'Polygon3.geojson']\n",
    "\n",
    "#Ouput\n",
    "merged_file = 'MergedPolygon.geojson'"
   ]
  },
  {
   "cell_type": "code",
   "execution_count": null,
   "metadata": {},
   "outputs": [],
   "source": [
    "data = gpd.GeoDataFrame()\n",
    "for file in to_merge:\n",
    "    data = pd.concat([data, gpd.read_file(file)])\n",
    "\n",
    "merge = data.unary_union\n",
    "result = gpd.GeoDataFrame(geometry=[merge])\n",
    "result.to_file(merged_file, driver='GeoJSON')\n",
    "\n",
    "with open(merged_file) as f:\n",
    "    data = geojson.load(f)\n",
    "    \n",
    "for feature in data['features']:\n",
    "    coordinates = feature['geometry']['coordinates']\n",
    "    polygon_area = {\n",
    "        \"type\": \"Polygon\",\n",
    "        \"coordinates\": coordinates\n",
    "        }\n",
    "print(geojson.dumps(polygon_area))"
   ]
  },
  {
   "cell_type": "code",
   "execution_count": null,
   "metadata": {},
   "outputs": [],
   "source": [
    "for feature in data['features']:\n",
    "    coordinates = feature['geometry']['coordinates']\n",
    "    first_coordinate = coordinates[0][0]\n",
    "    location = [first_coordinate[1], first_coordinate[0]]\n",
    "\n",
    "m = folium.Map(location= location,zoom_start=16)\n",
    "folium.GeoJson(merge, name=\"geojson\").add_to(m) \n",
    "m"
   ]
  }
 ],
 "metadata": {
  "kernelspec": {
   "display_name": "Python 3",
   "language": "python",
   "name": "python3"
  },
  "language_info": {
   "codemirror_mode": {
    "name": "ipython",
    "version": 3
   },
   "file_extension": ".py",
   "mimetype": "text/x-python",
   "name": "python",
   "nbconvert_exporter": "python",
   "pygments_lexer": "ipython3",
   "version": "3.8.16"
  },
  "orig_nbformat": 4
 },
 "nbformat": 4,
 "nbformat_minor": 2
}
